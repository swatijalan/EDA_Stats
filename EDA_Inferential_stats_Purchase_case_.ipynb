{
 "cells": [
  {
   "cell_type": "code",
   "execution_count": 1,
   "id": "5a9a7f0d",
   "metadata": {},
   "outputs": [],
   "source": [
    "# lets start\n",
    "\n",
    "import numpy as np\n",
    "import pandas as pd \n",
    "import matplotlib.pyplot as plt\n",
    "import os\n",
    "import seaborn as sns"
   ]
  },
  {
   "cell_type": "code",
   "execution_count": 2,
   "id": "5b1012d2",
   "metadata": {},
   "outputs": [
    {
     "data": {
      "text/plain": [
       "'C:\\\\Users\\\\SWATI\\\\All my files here ML\\\\Math Assignment'"
      ]
     },
     "execution_count": 2,
     "metadata": {},
     "output_type": "execute_result"
    }
   ],
   "source": [
    "os.getcwd()"
   ]
  },
  {
   "cell_type": "code",
   "execution_count": 3,
   "id": "0ee839f1",
   "metadata": {},
   "outputs": [],
   "source": [
    "os.chdir('C:\\\\Users\\SWATI\\Downloads\\maths')"
   ]
  },
  {
   "cell_type": "code",
   "execution_count": 4,
   "id": "a6ac7ad6",
   "metadata": {},
   "outputs": [
    {
     "data": {
      "text/plain": [
       "['.ipynb_checkpoints',\n",
       " '06-8-23 EDA_Case_Study_Video_Game_Sales .ipynb',\n",
       " '29-07-2023 Purchase case study by Tanmay.ipynb',\n",
       " '5th_Aug_Intro_to_Linear_Algebra.ipynb',\n",
       " 'Descriptive Statistics.pptx',\n",
       " 'Descriptive_Stats_and_Probability (1).ipynb',\n",
       " 'HR Analytics Case Study (1).pdf',\n",
       " 'HR analytics_Problem.ipynb',\n",
       " 'HR_Analytics.ipynb',\n",
       " 'Inferential Statistics - 1.pptx',\n",
       " 'Inferential Statistics - 2.pptx',\n",
       " 'Inferential-Statistics-22nd-July.zip',\n",
       " 'kerala.csv',\n",
       " 'Linear algebra.zip',\n",
       " 'maths 2',\n",
       " 'people.csv',\n",
       " 'Probability-1.zip',\n",
       " 'purchase case study (1).pdf',\n",
       " 'Purchase_case_study.ipynb',\n",
       " 'purchase_data.csv',\n",
       " 'Rank.ipynb',\n",
       " 'train (1).csv',\n",
       " 'vgsales.csv']"
      ]
     },
     "execution_count": 4,
     "metadata": {},
     "output_type": "execute_result"
    }
   ],
   "source": [
    "os.listdir()"
   ]
  },
  {
   "cell_type": "code",
   "execution_count": 5,
   "id": "aef89c4e",
   "metadata": {},
   "outputs": [],
   "source": [
    "Purchase = pd.read_csv(\"purchase_data.csv\")"
   ]
  },
  {
   "cell_type": "code",
   "execution_count": 6,
   "id": "b093c263",
   "metadata": {},
   "outputs": [
    {
     "data": {
      "text/html": [
       "<div>\n",
       "<style scoped>\n",
       "    .dataframe tbody tr th:only-of-type {\n",
       "        vertical-align: middle;\n",
       "    }\n",
       "\n",
       "    .dataframe tbody tr th {\n",
       "        vertical-align: top;\n",
       "    }\n",
       "\n",
       "    .dataframe thead th {\n",
       "        text-align: right;\n",
       "    }\n",
       "</style>\n",
       "<table border=\"1\" class=\"dataframe\">\n",
       "  <thead>\n",
       "    <tr style=\"text-align: right;\">\n",
       "      <th></th>\n",
       "      <th>User_ID</th>\n",
       "      <th>Product_ID</th>\n",
       "      <th>Gender</th>\n",
       "      <th>Age</th>\n",
       "      <th>Occupation</th>\n",
       "      <th>City_Category</th>\n",
       "      <th>Stay_In_Current_City_Years</th>\n",
       "      <th>Marital_Status</th>\n",
       "      <th>Product_Category_1</th>\n",
       "      <th>Product_Category_2</th>\n",
       "      <th>Product_Category_3</th>\n",
       "      <th>Purchase</th>\n",
       "    </tr>\n",
       "  </thead>\n",
       "  <tbody>\n",
       "    <tr>\n",
       "      <th>0</th>\n",
       "      <td>1000001</td>\n",
       "      <td>P00069042</td>\n",
       "      <td>F</td>\n",
       "      <td>0-17</td>\n",
       "      <td>10.0</td>\n",
       "      <td>A</td>\n",
       "      <td>2</td>\n",
       "      <td>0.0</td>\n",
       "      <td>3.0</td>\n",
       "      <td>NaN</td>\n",
       "      <td>NaN</td>\n",
       "      <td>8370.0</td>\n",
       "    </tr>\n",
       "    <tr>\n",
       "      <th>1</th>\n",
       "      <td>1000001</td>\n",
       "      <td>P00248942</td>\n",
       "      <td>F</td>\n",
       "      <td>0-17</td>\n",
       "      <td>10.0</td>\n",
       "      <td>A</td>\n",
       "      <td>2</td>\n",
       "      <td>0.0</td>\n",
       "      <td>1.0</td>\n",
       "      <td>6.0</td>\n",
       "      <td>14.0</td>\n",
       "      <td>15200.0</td>\n",
       "    </tr>\n",
       "    <tr>\n",
       "      <th>2</th>\n",
       "      <td>1000001</td>\n",
       "      <td>P00087842</td>\n",
       "      <td>F</td>\n",
       "      <td>0-17</td>\n",
       "      <td>10.0</td>\n",
       "      <td>A</td>\n",
       "      <td>2</td>\n",
       "      <td>0.0</td>\n",
       "      <td>12.0</td>\n",
       "      <td>NaN</td>\n",
       "      <td>NaN</td>\n",
       "      <td>1422.0</td>\n",
       "    </tr>\n",
       "    <tr>\n",
       "      <th>3</th>\n",
       "      <td>1000001</td>\n",
       "      <td>P00085442</td>\n",
       "      <td>F</td>\n",
       "      <td>0-17</td>\n",
       "      <td>10.0</td>\n",
       "      <td>A</td>\n",
       "      <td>2</td>\n",
       "      <td>0.0</td>\n",
       "      <td>12.0</td>\n",
       "      <td>14.0</td>\n",
       "      <td>NaN</td>\n",
       "      <td>1057.0</td>\n",
       "    </tr>\n",
       "    <tr>\n",
       "      <th>4</th>\n",
       "      <td>1000002</td>\n",
       "      <td>P00285442</td>\n",
       "      <td>M</td>\n",
       "      <td>55+</td>\n",
       "      <td>16.0</td>\n",
       "      <td>C</td>\n",
       "      <td>4+</td>\n",
       "      <td>0.0</td>\n",
       "      <td>8.0</td>\n",
       "      <td>NaN</td>\n",
       "      <td>NaN</td>\n",
       "      <td>7969.0</td>\n",
       "    </tr>\n",
       "  </tbody>\n",
       "</table>\n",
       "</div>"
      ],
      "text/plain": [
       "   User_ID Product_ID Gender   Age  Occupation City_Category  \\\n",
       "0  1000001  P00069042      F  0-17        10.0             A   \n",
       "1  1000001  P00248942      F  0-17        10.0             A   \n",
       "2  1000001  P00087842      F  0-17        10.0             A   \n",
       "3  1000001  P00085442      F  0-17        10.0             A   \n",
       "4  1000002  P00285442      M   55+        16.0             C   \n",
       "\n",
       "  Stay_In_Current_City_Years  Marital_Status  Product_Category_1  \\\n",
       "0                          2             0.0                 3.0   \n",
       "1                          2             0.0                 1.0   \n",
       "2                          2             0.0                12.0   \n",
       "3                          2             0.0                12.0   \n",
       "4                         4+             0.0                 8.0   \n",
       "\n",
       "   Product_Category_2  Product_Category_3  Purchase  \n",
       "0                 NaN                 NaN    8370.0  \n",
       "1                 6.0                14.0   15200.0  \n",
       "2                 NaN                 NaN    1422.0  \n",
       "3                14.0                 NaN    1057.0  \n",
       "4                 NaN                 NaN    7969.0  "
      ]
     },
     "execution_count": 6,
     "metadata": {},
     "output_type": "execute_result"
    }
   ],
   "source": [
    "Purchase.head()"
   ]
  },
  {
   "cell_type": "code",
   "execution_count": 7,
   "id": "1ec8a8c7",
   "metadata": {},
   "outputs": [
    {
     "data": {
      "text/plain": [
       "(263015, 12)"
      ]
     },
     "execution_count": 7,
     "metadata": {},
     "output_type": "execute_result"
    }
   ],
   "source": [
    "Purchase.shape"
   ]
  },
  {
   "cell_type": "code",
   "execution_count": 8,
   "id": "7ebd71e7",
   "metadata": {},
   "outputs": [
    {
     "name": "stdout",
     "output_type": "stream",
     "text": [
      "<class 'pandas.core.frame.DataFrame'>\n",
      "RangeIndex: 263015 entries, 0 to 263014\n",
      "Data columns (total 12 columns):\n",
      " #   Column                      Non-Null Count   Dtype  \n",
      "---  ------                      --------------   -----  \n",
      " 0   User_ID                     263015 non-null  int64  \n",
      " 1   Product_ID                  263014 non-null  object \n",
      " 2   Gender                      263014 non-null  object \n",
      " 3   Age                         263014 non-null  object \n",
      " 4   Occupation                  263014 non-null  float64\n",
      " 5   City_Category               263014 non-null  object \n",
      " 6   Stay_In_Current_City_Years  263014 non-null  object \n",
      " 7   Marital_Status              263014 non-null  float64\n",
      " 8   Product_Category_1          263014 non-null  float64\n",
      " 9   Product_Category_2          181501 non-null  float64\n",
      " 10  Product_Category_3          80582 non-null   float64\n",
      " 11  Purchase                    263014 non-null  float64\n",
      "dtypes: float64(6), int64(1), object(5)\n",
      "memory usage: 24.1+ MB\n"
     ]
    }
   ],
   "source": [
    "Purchase.info()"
   ]
  },
  {
   "cell_type": "code",
   "execution_count": 9,
   "id": "4849e5fa",
   "metadata": {},
   "outputs": [
    {
     "data": {
      "text/plain": [
       "User_ID                            0\n",
       "Product_ID                         1\n",
       "Gender                             1\n",
       "Age                                1\n",
       "Occupation                         1\n",
       "City_Category                      1\n",
       "Stay_In_Current_City_Years         1\n",
       "Marital_Status                     1\n",
       "Product_Category_1                 1\n",
       "Product_Category_2             81514\n",
       "Product_Category_3            182433\n",
       "Purchase                           1\n",
       "dtype: int64"
      ]
     },
     "execution_count": 9,
     "metadata": {},
     "output_type": "execute_result"
    }
   ],
   "source": [
    "Purchase.isna().sum()"
   ]
  },
  {
   "cell_type": "markdown",
   "id": "a31e3b56",
   "metadata": {},
   "source": [
    "#### drop null value or replace null values\n",
    "- Less null values--- drop null value (normally for null data between 5% to 10%) \n",
    "\n",
    "\n",
    "- More null values (10% or more):\n",
    "    - dedicated to paticular columns -----   **Drop them** (or for this analysis you can replcae them with zero as tha data missing is in product_category cols. So, we can assume that the customer may not have purchare from category 2 or 3)\n",
    "    - scattered amoung all the column ------   **Replacement**\n",
    "     "
   ]
  },
  {
   "cell_type": "code",
   "execution_count": 10,
   "id": "ecded02c",
   "metadata": {},
   "outputs": [],
   "source": [
    "Purchase['Product_Category_3']= Purchase['Product_Category_3'].fillna(0)"
   ]
  },
  {
   "cell_type": "code",
   "execution_count": 11,
   "id": "f7e36367",
   "metadata": {},
   "outputs": [],
   "source": [
    "Purchase['Product_Category_2']= Purchase['Product_Category_2'].fillna(0)"
   ]
  },
  {
   "cell_type": "code",
   "execution_count": 12,
   "id": "157925d8",
   "metadata": {},
   "outputs": [
    {
     "data": {
      "text/plain": [
       "User_ID                       0\n",
       "Product_ID                    1\n",
       "Gender                        1\n",
       "Age                           1\n",
       "Occupation                    1\n",
       "City_Category                 1\n",
       "Stay_In_Current_City_Years    1\n",
       "Marital_Status                1\n",
       "Product_Category_1            1\n",
       "Product_Category_2            0\n",
       "Product_Category_3            0\n",
       "Purchase                      1\n",
       "dtype: int64"
      ]
     },
     "execution_count": 12,
     "metadata": {},
     "output_type": "execute_result"
    }
   ],
   "source": [
    "Purchase.isna().sum()"
   ]
  },
  {
   "cell_type": "code",
   "execution_count": 13,
   "id": "754336b7",
   "metadata": {},
   "outputs": [],
   "source": [
    "# Now we can Drop the remaining null values\n",
    "\n",
    "Purchase.dropna(inplace=True)"
   ]
  },
  {
   "cell_type": "code",
   "execution_count": 14,
   "id": "b7c1b390",
   "metadata": {},
   "outputs": [
    {
     "data": {
      "text/plain": [
       "(263014, 12)"
      ]
     },
     "execution_count": 14,
     "metadata": {},
     "output_type": "execute_result"
    }
   ],
   "source": [
    "Purchase.shape"
   ]
  },
  {
   "cell_type": "code",
   "execution_count": 15,
   "id": "e64c32b4",
   "metadata": {},
   "outputs": [
    {
     "data": {
      "text/plain": [
       "0"
      ]
     },
     "execution_count": 15,
     "metadata": {},
     "output_type": "execute_result"
    }
   ],
   "source": [
    "Purchase.duplicated().sum()"
   ]
  },
  {
   "cell_type": "code",
   "execution_count": 16,
   "id": "5774df6f",
   "metadata": {},
   "outputs": [
    {
     "name": "stdout",
     "output_type": "stream",
     "text": [
      "<class 'pandas.core.frame.DataFrame'>\n",
      "Int64Index: 263014 entries, 0 to 263013\n",
      "Data columns (total 12 columns):\n",
      " #   Column                      Non-Null Count   Dtype  \n",
      "---  ------                      --------------   -----  \n",
      " 0   User_ID                     263014 non-null  int64  \n",
      " 1   Product_ID                  263014 non-null  object \n",
      " 2   Gender                      263014 non-null  object \n",
      " 3   Age                         263014 non-null  object \n",
      " 4   Occupation                  263014 non-null  float64\n",
      " 5   City_Category               263014 non-null  object \n",
      " 6   Stay_In_Current_City_Years  263014 non-null  object \n",
      " 7   Marital_Status              263014 non-null  float64\n",
      " 8   Product_Category_1          263014 non-null  float64\n",
      " 9   Product_Category_2          263014 non-null  float64\n",
      " 10  Product_Category_3          263014 non-null  float64\n",
      " 11  Purchase                    263014 non-null  float64\n",
      "dtypes: float64(6), int64(1), object(5)\n",
      "memory usage: 26.1+ MB\n"
     ]
    }
   ],
   "source": [
    "Purchase.info()"
   ]
  },
  {
   "cell_type": "code",
   "execution_count": 17,
   "id": "ea101fe7",
   "metadata": {},
   "outputs": [
    {
     "data": {
      "text/plain": [
       "1     92588\n",
       "2     48580\n",
       "3     45569\n",
       "4+    40665\n",
       "0     35612\n",
       "Name: Stay_In_Current_City_Years, dtype: int64"
      ]
     },
     "execution_count": 17,
     "metadata": {},
     "output_type": "execute_result"
    }
   ],
   "source": [
    "Purchase[\"Stay_In_Current_City_Years\"].value_counts()"
   ]
  },
  {
   "cell_type": "code",
   "execution_count": 18,
   "id": "23f64a8b",
   "metadata": {},
   "outputs": [],
   "source": [
    "# lets replace 4+ with 4 as we can only deal with numeric values\n",
    "\n",
    "Purchase[\"Stay_In_Current_City_Years\"]=  Purchase[\"Stay_In_Current_City_Years\"].replace(\"4+\",4)"
   ]
  },
  {
   "cell_type": "code",
   "execution_count": 19,
   "id": "5fdc5136",
   "metadata": {},
   "outputs": [
    {
     "data": {
      "text/plain": [
       "1    92588\n",
       "2    48580\n",
       "3    45569\n",
       "4    40665\n",
       "0    35612\n",
       "Name: Stay_In_Current_City_Years, dtype: int64"
      ]
     },
     "execution_count": 19,
     "metadata": {},
     "output_type": "execute_result"
    }
   ],
   "source": [
    "Purchase[\"Stay_In_Current_City_Years\"].value_counts()"
   ]
  },
  {
   "cell_type": "code",
   "execution_count": 20,
   "id": "8f57840d",
   "metadata": {},
   "outputs": [
    {
     "name": "stdout",
     "output_type": "stream",
     "text": [
      "<class 'pandas.core.frame.DataFrame'>\n",
      "Int64Index: 263014 entries, 0 to 263013\n",
      "Data columns (total 12 columns):\n",
      " #   Column                      Non-Null Count   Dtype  \n",
      "---  ------                      --------------   -----  \n",
      " 0   User_ID                     263014 non-null  int64  \n",
      " 1   Product_ID                  263014 non-null  object \n",
      " 2   Gender                      263014 non-null  object \n",
      " 3   Age                         263014 non-null  object \n",
      " 4   Occupation                  263014 non-null  float64\n",
      " 5   City_Category               263014 non-null  object \n",
      " 6   Stay_In_Current_City_Years  263014 non-null  object \n",
      " 7   Marital_Status              263014 non-null  float64\n",
      " 8   Product_Category_1          263014 non-null  float64\n",
      " 9   Product_Category_2          263014 non-null  float64\n",
      " 10  Product_Category_3          263014 non-null  float64\n",
      " 11  Purchase                    263014 non-null  float64\n",
      "dtypes: float64(6), int64(1), object(5)\n",
      "memory usage: 26.1+ MB\n"
     ]
    }
   ],
   "source": [
    "Purchase.info()"
   ]
  },
  {
   "cell_type": "code",
   "execution_count": 21,
   "id": "24e749af",
   "metadata": {},
   "outputs": [],
   "source": [
    "Purchase[\"Stay_In_Current_City_Years\"]= pd.to_numeric(Purchase[\"Stay_In_Current_City_Years\"], errors=\"coerce\")\n",
    "\n",
    "# to_numeric - convert (col) to numeric datatype\n",
    "\n",
    "# here we use error parameteer so that if their is any other datatype excepth numermic will be compared to null but not throw an error"
   ]
  },
  {
   "cell_type": "code",
   "execution_count": 22,
   "id": "f837bbe1",
   "metadata": {},
   "outputs": [],
   "source": [
    "## Purchase[\"Stay_In_Current_City_Years\"]=Purchase[\"Stay_In_Current_City_Years\"].astype(int)\n",
    "\n",
    "# astype can handle the error. It will throw as the error."
   ]
  },
  {
   "cell_type": "code",
   "execution_count": 23,
   "id": "570913e5",
   "metadata": {},
   "outputs": [
    {
     "data": {
      "text/plain": [
       "dtype('int64')"
      ]
     },
     "execution_count": 23,
     "metadata": {},
     "output_type": "execute_result"
    }
   ],
   "source": [
    "Purchase['Stay_In_Current_City_Years'].dtype"
   ]
  },
  {
   "cell_type": "code",
   "execution_count": 24,
   "id": "009e0c95",
   "metadata": {},
   "outputs": [
    {
     "data": {
      "text/plain": [
       "array(['0-17', '55+', '26-35', '46-50', '51-55', '36-45', '18-25'],\n",
       "      dtype=object)"
      ]
     },
     "execution_count": 24,
     "metadata": {},
     "output_type": "execute_result"
    }
   ],
   "source": [
    "# now that \"Stay_In_Current_City_Years\" col is numeric \n",
    "\n",
    "# Lets try to provide label encoding for object cols\n",
    "\n",
    "Purchase['Age'].unique()"
   ]
  },
  {
   "cell_type": "code",
   "execution_count": 25,
   "id": "f285cd3c",
   "metadata": {},
   "outputs": [],
   "source": [
    "# Label Encoding can be preformed \n",
    "\n",
    "from sklearn.preprocessing import LabelEncoder\n",
    "le=LabelEncoder()\n",
    "for col in Purchase.columns:\n",
    "    if Purchase[col].dtype==\"object\":\n",
    "        Purchase[col]=le.fit_transform(Purchase[col])"
   ]
  },
  {
   "cell_type": "code",
   "execution_count": 26,
   "id": "9730d34a",
   "metadata": {},
   "outputs": [
    {
     "name": "stdout",
     "output_type": "stream",
     "text": [
      "<class 'pandas.core.frame.DataFrame'>\n",
      "Int64Index: 263014 entries, 0 to 263013\n",
      "Data columns (total 12 columns):\n",
      " #   Column                      Non-Null Count   Dtype  \n",
      "---  ------                      --------------   -----  \n",
      " 0   User_ID                     263014 non-null  int64  \n",
      " 1   Product_ID                  263014 non-null  int32  \n",
      " 2   Gender                      263014 non-null  int32  \n",
      " 3   Age                         263014 non-null  int32  \n",
      " 4   Occupation                  263014 non-null  float64\n",
      " 5   City_Category               263014 non-null  int32  \n",
      " 6   Stay_In_Current_City_Years  263014 non-null  int64  \n",
      " 7   Marital_Status              263014 non-null  float64\n",
      " 8   Product_Category_1          263014 non-null  float64\n",
      " 9   Product_Category_2          263014 non-null  float64\n",
      " 10  Product_Category_3          263014 non-null  float64\n",
      " 11  Purchase                    263014 non-null  float64\n",
      "dtypes: float64(6), int32(4), int64(2)\n",
      "memory usage: 22.1 MB\n"
     ]
    }
   ],
   "source": [
    "# now lets check the info again\n",
    "\n",
    "Purchase.info()"
   ]
  },
  {
   "cell_type": "code",
   "execution_count": 27,
   "id": "663ae22a",
   "metadata": {},
   "outputs": [],
   "source": [
    "# All our data is now converted to numeric for us to use."
   ]
  },
  {
   "cell_type": "code",
   "execution_count": 28,
   "id": "b0b30c85",
   "metadata": {},
   "outputs": [
    {
     "name": "stderr",
     "output_type": "stream",
     "text": [
      "C:\\Users\\SWATI\\Documents\\python\\lib\\site-packages\\seaborn\\_decorators.py:36: FutureWarning: Pass the following variable as a keyword arg: x. From version 0.12, the only valid positional argument will be `data`, and passing other arguments without an explicit keyword will result in an error or misinterpretation.\n",
      "  warnings.warn(\n"
     ]
    },
    {
     "data": {
      "image/png": "[encoded data removed]",
      "text/plain": [
       "<Figure size 1000x500 with 1 Axes>"
      ]
     },
     "metadata": {},
     "output_type": "display_data"
    }
   ],
   "source": [
    "#Visualization\n",
    "\n",
    "plt.figure(figsize=(10,5))\n",
    "sns.countplot(Purchase['Product_Category_1'])\n",
    "plt.show()"
   ]
  },
  {
   "cell_type": "code",
   "execution_count": 29,
   "id": "63eb7008",
   "metadata": {},
   "outputs": [],
   "source": [
    "#from the product category_1 most people puchases only one item"
   ]
  },
  {
   "cell_type": "code",
   "execution_count": 30,
   "id": "3e147e27",
   "metadata": {},
   "outputs": [
    {
     "data": {
      "image/png": "[encoded data removed]",
      "text/plain": [
       "<Figure size 640x480 with 1 Axes>"
      ]
     },
     "metadata": {},
     "output_type": "display_data"
    }
   ],
   "source": [
    "plt.hist(Purchase['Product_Category_1'])\n",
    "plt.xlabel('Product_1')\n",
    "plt.ylabel('count')\n",
    "plt.show()"
   ]
  },
  {
   "cell_type": "markdown",
   "id": "a8cd7703",
   "metadata": {},
   "source": [
    "# STATISTIC ANALYSIS "
   ]
  },
  {
   "cell_type": "markdown",
   "id": "6b2db3ae",
   "metadata": {},
   "source": [
    "### Hypothesis testing\n",
    "#### Example-  assumption - 60% of men are data scientist\n",
    "\n",
    "- steps to perform Hypothesis Testing\n",
    "\n",
    "    - generate two hypothesis:\n",
    "         - **Null Hypothesis**: 60% of men are data scientist\n",
    "         - **Alternate Hypothesis**: 60% of men are not data scientist\n",
    "     - Collect the data and create the samples \n",
    "     - select suitable test from( t test, z test, f test based on the problem statement)\n",
    "\n",
    "     *p-value*--- ( parameter of test [assumption]) (Evidence)\n",
    "     Reject on Accept the p value based on significance level(0.05)\n",
    "\n",
    "\n",
    " -- Note significance level of 0.05 means confidence level of 95% \n",
    "    (here for this example know that we will be considering the 55% to 65% for null hypothesis i.e the variance we allow)\n",
    "    \n",
    " -- Also Note that we can change the significance level and increase confidence level if we want but to solve it may be difficult (as the variance range will decreased) "
   ]
  },
  {
   "cell_type": "markdown",
   "id": "6b8386b1",
   "metadata": {},
   "source": [
    "- **One sample test:** in my assumption if the one sample is being compared by a standard value\n",
    "    - Ex:Avg salary of men in India is 60K(standard value)\n",
    "- **Two sample test:** in my assumption if one sample is being compared by another sample\n",
    "    - Ex avg salary of men in India is same as avg salary of women"
   ]
  },
  {
   "cell_type": "markdown",
   "id": "47236ed5",
   "metadata": {},
   "source": [
    "### Q1)  It was observed that the average purchase made by the Men of the age 18-25 was 10000. Is it still the same?"
   ]
  },
  {
   "cell_type": "markdown",
   "id": "f0a654c9",
   "metadata": {},
   "source": [
    "- Whenever we compare mean we have two choices : \n",
    "\n",
    "\n",
    "    -  **t test** (must be applied when std deviation or variance are not given for the sample) or \n",
    "    -  **z test** (must be applied when std deviation or variance is given for the sample)"
   ]
  },
  {
   "cell_type": "code",
   "execution_count": 31,
   "id": "2cdef0a2",
   "metadata": {},
   "outputs": [],
   "source": [
    "# t test for the one sample ( as std dev is not given)\n",
    "# here we have one sample as we are comparing the avg purchase with 10000"
   ]
  },
  {
   "cell_type": "code",
   "execution_count": 32,
   "id": "151b1006",
   "metadata": {},
   "outputs": [],
   "source": [
    "#null hypothesis - The mean is 10000\n",
    "#alternate hypothesis - The mean is not 10000"
   ]
  },
  {
   "cell_type": "code",
   "execution_count": 33,
   "id": "9b5d1247",
   "metadata": {},
   "outputs": [],
   "source": [
    "new_data = Purchase[(Purchase['Age'] == 1) & Purchase['Gender'] == 1]"
   ]
  },
  {
   "cell_type": "code",
   "execution_count": 34,
   "id": "0a7d12a1",
   "metadata": {},
   "outputs": [
    {
     "data": {
      "text/html": [
       "<div>\n",
       "<style scoped>\n",
       "    .dataframe tbody tr th:only-of-type {\n",
       "        vertical-align: middle;\n",
       "    }\n",
       "\n",
       "    .dataframe tbody tr th {\n",
       "        vertical-align: top;\n",
       "    }\n",
       "\n",
       "    .dataframe thead th {\n",
       "        text-align: right;\n",
       "    }\n",
       "</style>\n",
       "<table border=\"1\" class=\"dataframe\">\n",
       "  <thead>\n",
       "    <tr style=\"text-align: right;\">\n",
       "      <th></th>\n",
       "      <th>User_ID</th>\n",
       "      <th>Product_ID</th>\n",
       "      <th>Gender</th>\n",
       "      <th>Age</th>\n",
       "      <th>Occupation</th>\n",
       "      <th>City_Category</th>\n",
       "      <th>Stay_In_Current_City_Years</th>\n",
       "      <th>Marital_Status</th>\n",
       "      <th>Product_Category_1</th>\n",
       "      <th>Product_Category_2</th>\n",
       "      <th>Product_Category_3</th>\n",
       "      <th>Purchase</th>\n",
       "    </tr>\n",
       "  </thead>\n",
       "  <tbody>\n",
       "    <tr>\n",
       "      <th>97</th>\n",
       "      <td>1000021</td>\n",
       "      <td>2024</td>\n",
       "      <td>1</td>\n",
       "      <td>1</td>\n",
       "      <td>16.0</td>\n",
       "      <td>1</td>\n",
       "      <td>0</td>\n",
       "      <td>0.0</td>\n",
       "      <td>3.0</td>\n",
       "      <td>12.0</td>\n",
       "      <td>0.0</td>\n",
       "      <td>3055.0</td>\n",
       "    </tr>\n",
       "    <tr>\n",
       "      <th>98</th>\n",
       "      <td>1000022</td>\n",
       "      <td>3261</td>\n",
       "      <td>1</td>\n",
       "      <td>1</td>\n",
       "      <td>15.0</td>\n",
       "      <td>0</td>\n",
       "      <td>4</td>\n",
       "      <td>0.0</td>\n",
       "      <td>1.0</td>\n",
       "      <td>8.0</td>\n",
       "      <td>17.0</td>\n",
       "      <td>12099.0</td>\n",
       "    </tr>\n",
       "    <tr>\n",
       "      <th>99</th>\n",
       "      <td>1000022</td>\n",
       "      <td>1954</td>\n",
       "      <td>1</td>\n",
       "      <td>1</td>\n",
       "      <td>15.0</td>\n",
       "      <td>0</td>\n",
       "      <td>4</td>\n",
       "      <td>0.0</td>\n",
       "      <td>5.0</td>\n",
       "      <td>8.0</td>\n",
       "      <td>0.0</td>\n",
       "      <td>8797.0</td>\n",
       "    </tr>\n",
       "    <tr>\n",
       "      <th>100</th>\n",
       "      <td>1000022</td>\n",
       "      <td>1792</td>\n",
       "      <td>1</td>\n",
       "      <td>1</td>\n",
       "      <td>15.0</td>\n",
       "      <td>0</td>\n",
       "      <td>4</td>\n",
       "      <td>0.0</td>\n",
       "      <td>3.0</td>\n",
       "      <td>4.0</td>\n",
       "      <td>0.0</td>\n",
       "      <td>10681.0</td>\n",
       "    </tr>\n",
       "    <tr>\n",
       "      <th>101</th>\n",
       "      <td>1000022</td>\n",
       "      <td>1020</td>\n",
       "      <td>1</td>\n",
       "      <td>1</td>\n",
       "      <td>15.0</td>\n",
       "      <td>0</td>\n",
       "      <td>4</td>\n",
       "      <td>0.0</td>\n",
       "      <td>8.0</td>\n",
       "      <td>14.0</td>\n",
       "      <td>0.0</td>\n",
       "      <td>7801.0</td>\n",
       "    </tr>\n",
       "    <tr>\n",
       "      <th>...</th>\n",
       "      <td>...</td>\n",
       "      <td>...</td>\n",
       "      <td>...</td>\n",
       "      <td>...</td>\n",
       "      <td>...</td>\n",
       "      <td>...</td>\n",
       "      <td>...</td>\n",
       "      <td>...</td>\n",
       "      <td>...</td>\n",
       "      <td>...</td>\n",
       "      <td>...</td>\n",
       "      <td>...</td>\n",
       "    </tr>\n",
       "    <tr>\n",
       "      <th>262767</th>\n",
       "      <td>1004446</td>\n",
       "      <td>1311</td>\n",
       "      <td>1</td>\n",
       "      <td>1</td>\n",
       "      <td>18.0</td>\n",
       "      <td>1</td>\n",
       "      <td>1</td>\n",
       "      <td>1.0</td>\n",
       "      <td>1.0</td>\n",
       "      <td>2.0</td>\n",
       "      <td>0.0</td>\n",
       "      <td>15431.0</td>\n",
       "    </tr>\n",
       "    <tr>\n",
       "      <th>262951</th>\n",
       "      <td>1004465</td>\n",
       "      <td>2880</td>\n",
       "      <td>1</td>\n",
       "      <td>1</td>\n",
       "      <td>4.0</td>\n",
       "      <td>0</td>\n",
       "      <td>1</td>\n",
       "      <td>1.0</td>\n",
       "      <td>5.0</td>\n",
       "      <td>0.0</td>\n",
       "      <td>0.0</td>\n",
       "      <td>1763.0</td>\n",
       "    </tr>\n",
       "    <tr>\n",
       "      <th>262952</th>\n",
       "      <td>1004465</td>\n",
       "      <td>1296</td>\n",
       "      <td>1</td>\n",
       "      <td>1</td>\n",
       "      <td>4.0</td>\n",
       "      <td>0</td>\n",
       "      <td>1</td>\n",
       "      <td>1.0</td>\n",
       "      <td>2.0</td>\n",
       "      <td>3.0</td>\n",
       "      <td>4.0</td>\n",
       "      <td>3240.0</td>\n",
       "    </tr>\n",
       "    <tr>\n",
       "      <th>262953</th>\n",
       "      <td>1004465</td>\n",
       "      <td>2733</td>\n",
       "      <td>1</td>\n",
       "      <td>1</td>\n",
       "      <td>4.0</td>\n",
       "      <td>0</td>\n",
       "      <td>1</td>\n",
       "      <td>1.0</td>\n",
       "      <td>8.0</td>\n",
       "      <td>0.0</td>\n",
       "      <td>0.0</td>\n",
       "      <td>5832.0</td>\n",
       "    </tr>\n",
       "    <tr>\n",
       "      <th>262954</th>\n",
       "      <td>1004465</td>\n",
       "      <td>1424</td>\n",
       "      <td>1</td>\n",
       "      <td>1</td>\n",
       "      <td>4.0</td>\n",
       "      <td>0</td>\n",
       "      <td>1</td>\n",
       "      <td>1.0</td>\n",
       "      <td>8.0</td>\n",
       "      <td>0.0</td>\n",
       "      <td>0.0</td>\n",
       "      <td>7788.0</td>\n",
       "    </tr>\n",
       "  </tbody>\n",
       "</table>\n",
       "<p>36332 rows × 12 columns</p>\n",
       "</div>"
      ],
      "text/plain": [
       "        User_ID  Product_ID  Gender  Age  Occupation  City_Category  \\\n",
       "97      1000021        2024       1    1        16.0              1   \n",
       "98      1000022        3261       1    1        15.0              0   \n",
       "99      1000022        1954       1    1        15.0              0   \n",
       "100     1000022        1792       1    1        15.0              0   \n",
       "101     1000022        1020       1    1        15.0              0   \n",
       "...         ...         ...     ...  ...         ...            ...   \n",
       "262767  1004446        1311       1    1        18.0              1   \n",
       "262951  1004465        2880       1    1         4.0              0   \n",
       "262952  1004465        1296       1    1         4.0              0   \n",
       "262953  1004465        2733       1    1         4.0              0   \n",
       "262954  1004465        1424       1    1         4.0              0   \n",
       "\n",
       "        Stay_In_Current_City_Years  Marital_Status  Product_Category_1  \\\n",
       "97                               0             0.0                 3.0   \n",
       "98                               4             0.0                 1.0   \n",
       "99                               4             0.0                 5.0   \n",
       "100                              4             0.0                 3.0   \n",
       "101                              4             0.0                 8.0   \n",
       "...                            ...             ...                 ...   \n",
       "262767                           1             1.0                 1.0   \n",
       "262951                           1             1.0                 5.0   \n",
       "262952                           1             1.0                 2.0   \n",
       "262953                           1             1.0                 8.0   \n",
       "262954                           1             1.0                 8.0   \n",
       "\n",
       "        Product_Category_2  Product_Category_3  Purchase  \n",
       "97                    12.0                 0.0    3055.0  \n",
       "98                     8.0                17.0   12099.0  \n",
       "99                     8.0                 0.0    8797.0  \n",
       "100                    4.0                 0.0   10681.0  \n",
       "101                   14.0                 0.0    7801.0  \n",
       "...                    ...                 ...       ...  \n",
       "262767                 2.0                 0.0   15431.0  \n",
       "262951                 0.0                 0.0    1763.0  \n",
       "262952                 3.0                 4.0    3240.0  \n",
       "262953                 0.0                 0.0    5832.0  \n",
       "262954                 0.0                 0.0    7788.0  \n",
       "\n",
       "[36332 rows x 12 columns]"
      ]
     },
     "execution_count": 34,
     "metadata": {},
     "output_type": "execute_result"
    }
   ],
   "source": [
    "new_data"
   ]
  },
  {
   "cell_type": "code",
   "execution_count": 35,
   "id": "642a5dc7",
   "metadata": {},
   "outputs": [],
   "source": [
    "# now we are creating a sample for the above dataset \n",
    "\n",
    "sample_size = 3200 # can be 5% to 10% of the population\n",
    "\n",
    "sample = new_data.sample(sample_size, random_state=0)\n",
    "\n",
    "## here sample function is used to create the sample from population as its a random function.\n",
    "## A random fuction always selects new random numbers to fix this state of randomization we use the ** Random_state ** function to\n",
    "## fix the random value to be the one choosen by the system first time \n",
    "## eg: if [1,2,36,8,55] Then if the random function selected [36,55] at the first iteration now it will remain fixed to it. When we rerun the data \n",
    "# because random_state parameter.\n",
    "\n",
    "#Random_state --- can be any positive value \n",
    "\n",
    "\n",
    "## Additionally if I give same sample size and random_state number. Then the same row_numbers will be selected even for a different dataset."
   ]
  },
  {
   "cell_type": "code",
   "execution_count": 36,
   "id": "06f203d8",
   "metadata": {},
   "outputs": [
    {
     "data": {
      "text/html": [
       "<div>\n",
       "<style scoped>\n",
       "    .dataframe tbody tr th:only-of-type {\n",
       "        vertical-align: middle;\n",
       "    }\n",
       "\n",
       "    .dataframe tbody tr th {\n",
       "        vertical-align: top;\n",
       "    }\n",
       "\n",
       "    .dataframe thead th {\n",
       "        text-align: right;\n",
       "    }\n",
       "</style>\n",
       "<table border=\"1\" class=\"dataframe\">\n",
       "  <thead>\n",
       "    <tr style=\"text-align: right;\">\n",
       "      <th></th>\n",
       "      <th>User_ID</th>\n",
       "      <th>Product_ID</th>\n",
       "      <th>Gender</th>\n",
       "      <th>Age</th>\n",
       "      <th>Occupation</th>\n",
       "      <th>City_Category</th>\n",
       "      <th>Stay_In_Current_City_Years</th>\n",
       "      <th>Marital_Status</th>\n",
       "      <th>Product_Category_1</th>\n",
       "      <th>Product_Category_2</th>\n",
       "      <th>Product_Category_3</th>\n",
       "      <th>Purchase</th>\n",
       "    </tr>\n",
       "  </thead>\n",
       "  <tbody>\n",
       "    <tr>\n",
       "      <th>132607</th>\n",
       "      <td>1002404</td>\n",
       "      <td>2939</td>\n",
       "      <td>1</td>\n",
       "      <td>1</td>\n",
       "      <td>7.0</td>\n",
       "      <td>2</td>\n",
       "      <td>1</td>\n",
       "      <td>0.0</td>\n",
       "      <td>4.0</td>\n",
       "      <td>5.0</td>\n",
       "      <td>0.0</td>\n",
       "      <td>3490.0</td>\n",
       "    </tr>\n",
       "    <tr>\n",
       "      <th>202112</th>\n",
       "      <td>1001201</td>\n",
       "      <td>2766</td>\n",
       "      <td>1</td>\n",
       "      <td>1</td>\n",
       "      <td>4.0</td>\n",
       "      <td>2</td>\n",
       "      <td>4</td>\n",
       "      <td>0.0</td>\n",
       "      <td>8.0</td>\n",
       "      <td>0.0</td>\n",
       "      <td>0.0</td>\n",
       "      <td>5904.0</td>\n",
       "    </tr>\n",
       "    <tr>\n",
       "      <th>238551</th>\n",
       "      <td>1000818</td>\n",
       "      <td>2129</td>\n",
       "      <td>1</td>\n",
       "      <td>1</td>\n",
       "      <td>4.0</td>\n",
       "      <td>2</td>\n",
       "      <td>2</td>\n",
       "      <td>0.0</td>\n",
       "      <td>5.0</td>\n",
       "      <td>14.0</td>\n",
       "      <td>0.0</td>\n",
       "      <td>5378.0</td>\n",
       "    </tr>\n",
       "    <tr>\n",
       "      <th>73984</th>\n",
       "      <td>1005394</td>\n",
       "      <td>2755</td>\n",
       "      <td>1</td>\n",
       "      <td>1</td>\n",
       "      <td>0.0</td>\n",
       "      <td>0</td>\n",
       "      <td>2</td>\n",
       "      <td>0.0</td>\n",
       "      <td>5.0</td>\n",
       "      <td>8.0</td>\n",
       "      <td>0.0</td>\n",
       "      <td>7134.0</td>\n",
       "    </tr>\n",
       "    <tr>\n",
       "      <th>258980</th>\n",
       "      <td>1003884</td>\n",
       "      <td>2047</td>\n",
       "      <td>1</td>\n",
       "      <td>1</td>\n",
       "      <td>4.0</td>\n",
       "      <td>0</td>\n",
       "      <td>1</td>\n",
       "      <td>1.0</td>\n",
       "      <td>5.0</td>\n",
       "      <td>8.0</td>\n",
       "      <td>0.0</td>\n",
       "      <td>3678.0</td>\n",
       "    </tr>\n",
       "    <tr>\n",
       "      <th>...</th>\n",
       "      <td>...</td>\n",
       "      <td>...</td>\n",
       "      <td>...</td>\n",
       "      <td>...</td>\n",
       "      <td>...</td>\n",
       "      <td>...</td>\n",
       "      <td>...</td>\n",
       "      <td>...</td>\n",
       "      <td>...</td>\n",
       "      <td>...</td>\n",
       "      <td>...</td>\n",
       "      <td>...</td>\n",
       "    </tr>\n",
       "    <tr>\n",
       "      <th>233627</th>\n",
       "      <td>1006028</td>\n",
       "      <td>2497</td>\n",
       "      <td>1</td>\n",
       "      <td>1</td>\n",
       "      <td>4.0</td>\n",
       "      <td>0</td>\n",
       "      <td>4</td>\n",
       "      <td>0.0</td>\n",
       "      <td>8.0</td>\n",
       "      <td>14.0</td>\n",
       "      <td>0.0</td>\n",
       "      <td>6034.0</td>\n",
       "    </tr>\n",
       "    <tr>\n",
       "      <th>28990</th>\n",
       "      <td>1004415</td>\n",
       "      <td>1570</td>\n",
       "      <td>1</td>\n",
       "      <td>1</td>\n",
       "      <td>0.0</td>\n",
       "      <td>1</td>\n",
       "      <td>1</td>\n",
       "      <td>0.0</td>\n",
       "      <td>1.0</td>\n",
       "      <td>6.0</td>\n",
       "      <td>14.0</td>\n",
       "      <td>11920.0</td>\n",
       "    </tr>\n",
       "    <tr>\n",
       "      <th>244534</th>\n",
       "      <td>1001676</td>\n",
       "      <td>1649</td>\n",
       "      <td>1</td>\n",
       "      <td>1</td>\n",
       "      <td>4.0</td>\n",
       "      <td>1</td>\n",
       "      <td>4</td>\n",
       "      <td>0.0</td>\n",
       "      <td>11.0</td>\n",
       "      <td>0.0</td>\n",
       "      <td>0.0</td>\n",
       "      <td>1528.0</td>\n",
       "    </tr>\n",
       "    <tr>\n",
       "      <th>245547</th>\n",
       "      <td>1001805</td>\n",
       "      <td>1845</td>\n",
       "      <td>1</td>\n",
       "      <td>1</td>\n",
       "      <td>4.0</td>\n",
       "      <td>2</td>\n",
       "      <td>0</td>\n",
       "      <td>0.0</td>\n",
       "      <td>1.0</td>\n",
       "      <td>2.0</td>\n",
       "      <td>9.0</td>\n",
       "      <td>19368.0</td>\n",
       "    </tr>\n",
       "    <tr>\n",
       "      <th>127275</th>\n",
       "      <td>1001613</td>\n",
       "      <td>1194</td>\n",
       "      <td>1</td>\n",
       "      <td>1</td>\n",
       "      <td>20.0</td>\n",
       "      <td>0</td>\n",
       "      <td>1</td>\n",
       "      <td>0.0</td>\n",
       "      <td>1.0</td>\n",
       "      <td>16.0</td>\n",
       "      <td>0.0</td>\n",
       "      <td>8043.0</td>\n",
       "    </tr>\n",
       "  </tbody>\n",
       "</table>\n",
       "<p>3200 rows × 12 columns</p>\n",
       "</div>"
      ],
      "text/plain": [
       "        User_ID  Product_ID  Gender  Age  Occupation  City_Category  \\\n",
       "132607  1002404        2939       1    1         7.0              2   \n",
       "202112  1001201        2766       1    1         4.0              2   \n",
       "238551  1000818        2129       1    1         4.0              2   \n",
       "73984   1005394        2755       1    1         0.0              0   \n",
       "258980  1003884        2047       1    1         4.0              0   \n",
       "...         ...         ...     ...  ...         ...            ...   \n",
       "233627  1006028        2497       1    1         4.0              0   \n",
       "28990   1004415        1570       1    1         0.0              1   \n",
       "244534  1001676        1649       1    1         4.0              1   \n",
       "245547  1001805        1845       1    1         4.0              2   \n",
       "127275  1001613        1194       1    1        20.0              0   \n",
       "\n",
       "        Stay_In_Current_City_Years  Marital_Status  Product_Category_1  \\\n",
       "132607                           1             0.0                 4.0   \n",
       "202112                           4             0.0                 8.0   \n",
       "238551                           2             0.0                 5.0   \n",
       "73984                            2             0.0                 5.0   \n",
       "258980                           1             1.0                 5.0   \n",
       "...                            ...             ...                 ...   \n",
       "233627                           4             0.0                 8.0   \n",
       "28990                            1             0.0                 1.0   \n",
       "244534                           4             0.0                11.0   \n",
       "245547                           0             0.0                 1.0   \n",
       "127275                           1             0.0                 1.0   \n",
       "\n",
       "        Product_Category_2  Product_Category_3  Purchase  \n",
       "132607                 5.0                 0.0    3490.0  \n",
       "202112                 0.0                 0.0    5904.0  \n",
       "238551                14.0                 0.0    5378.0  \n",
       "73984                  8.0                 0.0    7134.0  \n",
       "258980                 8.0                 0.0    3678.0  \n",
       "...                    ...                 ...       ...  \n",
       "233627                14.0                 0.0    6034.0  \n",
       "28990                  6.0                14.0   11920.0  \n",
       "244534                 0.0                 0.0    1528.0  \n",
       "245547                 2.0                 9.0   19368.0  \n",
       "127275                16.0                 0.0    8043.0  \n",
       "\n",
       "[3200 rows x 12 columns]"
      ]
     },
     "execution_count": 36,
     "metadata": {},
     "output_type": "execute_result"
    }
   ],
   "source": [
    "sample\n"
   ]
  },
  {
   "cell_type": "code",
   "execution_count": 37,
   "id": "eeb9e05f",
   "metadata": {},
   "outputs": [
    {
     "data": {
      "text/plain": [
       "9440.512275679841"
      ]
     },
     "execution_count": 37,
     "metadata": {},
     "output_type": "execute_result"
    }
   ],
   "source": [
    "# here we can verify from  population dataset. Therefore\n",
    "\n",
    "new_data[\"Purchase\"].mean()"
   ]
  },
  {
   "cell_type": "markdown",
   "id": "6e9ada5d",
   "metadata": {},
   "source": [
    "- Here we can take mean directly from the population dataset.\n",
    "\n",
    "\n",
    "- However, remember in real life we will never have the population dataset and we will be working directly on the \n",
    "sample set itself. ---> REASON 1\n",
    "\n",
    "- we have to perform *p-value*  for proving this is formal way too ( using formula for stats [maths])  ---> REASON 2\n",
    "\n",
    "- For why we calculate p-value\n"
   ]
  },
  {
   "cell_type": "markdown",
   "id": "159c1632",
   "metadata": {},
   "source": [
    "### Lets start the statistical test now"
   ]
  },
  {
   "cell_type": "code",
   "execution_count": 38,
   "id": "e503b314",
   "metadata": {},
   "outputs": [],
   "source": [
    "assumed_mean = 10000 # in the question"
   ]
  },
  {
   "cell_type": "code",
   "execution_count": 39,
   "id": "0cb0b3d6",
   "metadata": {},
   "outputs": [],
   "source": [
    "#let import one sample t-test\n",
    "from scipy.stats import ttest_1samp"
   ]
  },
  {
   "cell_type": "code",
   "execution_count": 40,
   "id": "74305669",
   "metadata": {},
   "outputs": [
    {
     "name": "stdout",
     "output_type": "stream",
     "text": [
      "-6.345362334309677 2.5317137406184865e-10\n"
     ]
    }
   ],
   "source": [
    "t_stat, p_value = ttest_1samp(sample['Purchase'], assumed_mean)\n",
    "# here ttest_1samp is comparing whether for sample['purchase'] the mean is equal to the assumed_mean or not\n",
    "\n",
    "print(t_stat, p_value)"
   ]
  },
  {
   "cell_type": "markdown",
   "id": "fcb6a1b4",
   "metadata": {},
   "source": [
    "NOTE - Statistical test normally returns two values (some may return more)\n",
    "         - the first is STATISTICS VALUE \n",
    "         - the second is the P-VALUE\n",
    "        \n",
    "    - Statistical Value ---> is like whatever formula it's using to calculate this thing\n",
    "    (after putting that Formula) we get the standard value is stored in t_stat. (we do not use this value)\n",
    "    \n",
    "    - *P-value* ---> This value is required to accept or reject the test."
   ]
  },
  {
   "cell_type": "code",
   "execution_count": 41,
   "id": "8f9a14f8",
   "metadata": {},
   "outputs": [],
   "source": [
    "# Here p-value is very small as e to the power -10 is their in the p-value.\n",
    "# i.e 0.000000000025317 etc < 0.05\n",
    "\n",
    "#P-value is less than 0.05, reject the null hypothesis. \n"
   ]
  },
  {
   "cell_type": "markdown",
   "id": "54640c21",
   "metadata": {},
   "source": [
    "### Answer : the mean purchase for men aged 18-25 is not 10000. "
   ]
  },
  {
   "cell_type": "markdown",
   "id": "e1074acc",
   "metadata": {},
   "source": [
    "### Q2) It was observed that the percentage of women of that spend more than 10000 was 35%. Is it still the same?"
   ]
  },
  {
   "cell_type": "code",
   "execution_count": 42,
   "id": "716d84bc",
   "metadata": {},
   "outputs": [],
   "source": [
    "# z_ proportion test (used for percentage or proportion) for one sample\n",
    "\n",
    "# Note only here in this example we do not create sample for this as we are compare the percentage with the population itself.\n",
    "# In real we have to create sample as the population will be unknown.\n",
    "\n",
    "\n",
    "# parameters: count, nobs, value"
   ]
  },
  {
   "cell_type": "code",
   "execution_count": 43,
   "id": "0ba1a0b4",
   "metadata": {},
   "outputs": [],
   "source": [
    "#null hypothesis - proportion is 35%.\n",
    "#alternate hypothesis - proportion is not 35%. \n",
    "\n",
    "data_new = Purchase[(Purchase['Purchase'] > 10000)]\n",
    "\n"
   ]
  },
  {
   "cell_type": "code",
   "execution_count": 44,
   "id": "da82dcc4",
   "metadata": {},
   "outputs": [
    {
     "data": {
      "text/html": [
       "<div>\n",
       "<style scoped>\n",
       "    .dataframe tbody tr th:only-of-type {\n",
       "        vertical-align: middle;\n",
       "    }\n",
       "\n",
       "    .dataframe tbody tr th {\n",
       "        vertical-align: top;\n",
       "    }\n",
       "\n",
       "    .dataframe thead th {\n",
       "        text-align: right;\n",
       "    }\n",
       "</style>\n",
       "<table border=\"1\" class=\"dataframe\">\n",
       "  <thead>\n",
       "    <tr style=\"text-align: right;\">\n",
       "      <th></th>\n",
       "      <th>User_ID</th>\n",
       "      <th>Product_ID</th>\n",
       "      <th>Gender</th>\n",
       "      <th>Age</th>\n",
       "      <th>Occupation</th>\n",
       "      <th>City_Category</th>\n",
       "      <th>Stay_In_Current_City_Years</th>\n",
       "      <th>Marital_Status</th>\n",
       "      <th>Product_Category_1</th>\n",
       "      <th>Product_Category_2</th>\n",
       "      <th>Product_Category_3</th>\n",
       "      <th>Purchase</th>\n",
       "    </tr>\n",
       "  </thead>\n",
       "  <tbody>\n",
       "    <tr>\n",
       "      <th>1</th>\n",
       "      <td>1000001</td>\n",
       "      <td>2304</td>\n",
       "      <td>0</td>\n",
       "      <td>0</td>\n",
       "      <td>10.0</td>\n",
       "      <td>0</td>\n",
       "      <td>2</td>\n",
       "      <td>0.0</td>\n",
       "      <td>1.0</td>\n",
       "      <td>6.0</td>\n",
       "      <td>14.0</td>\n",
       "      <td>15200.0</td>\n",
       "    </tr>\n",
       "    <tr>\n",
       "      <th>5</th>\n",
       "      <td>1000003</td>\n",
       "      <td>1768</td>\n",
       "      <td>1</td>\n",
       "      <td>2</td>\n",
       "      <td>15.0</td>\n",
       "      <td>0</td>\n",
       "      <td>3</td>\n",
       "      <td>0.0</td>\n",
       "      <td>1.0</td>\n",
       "      <td>2.0</td>\n",
       "      <td>0.0</td>\n",
       "      <td>15227.0</td>\n",
       "    </tr>\n",
       "    <tr>\n",
       "      <th>6</th>\n",
       "      <td>1000004</td>\n",
       "      <td>1684</td>\n",
       "      <td>1</td>\n",
       "      <td>4</td>\n",
       "      <td>7.0</td>\n",
       "      <td>1</td>\n",
       "      <td>2</td>\n",
       "      <td>1.0</td>\n",
       "      <td>1.0</td>\n",
       "      <td>8.0</td>\n",
       "      <td>17.0</td>\n",
       "      <td>19215.0</td>\n",
       "    </tr>\n",
       "    <tr>\n",
       "      <th>7</th>\n",
       "      <td>1000004</td>\n",
       "      <td>3213</td>\n",
       "      <td>1</td>\n",
       "      <td>4</td>\n",
       "      <td>7.0</td>\n",
       "      <td>1</td>\n",
       "      <td>2</td>\n",
       "      <td>1.0</td>\n",
       "      <td>1.0</td>\n",
       "      <td>15.0</td>\n",
       "      <td>0.0</td>\n",
       "      <td>15854.0</td>\n",
       "    </tr>\n",
       "    <tr>\n",
       "      <th>8</th>\n",
       "      <td>1000004</td>\n",
       "      <td>3481</td>\n",
       "      <td>1</td>\n",
       "      <td>4</td>\n",
       "      <td>7.0</td>\n",
       "      <td>1</td>\n",
       "      <td>2</td>\n",
       "      <td>1.0</td>\n",
       "      <td>1.0</td>\n",
       "      <td>16.0</td>\n",
       "      <td>0.0</td>\n",
       "      <td>15686.0</td>\n",
       "    </tr>\n",
       "    <tr>\n",
       "      <th>...</th>\n",
       "      <td>...</td>\n",
       "      <td>...</td>\n",
       "      <td>...</td>\n",
       "      <td>...</td>\n",
       "      <td>...</td>\n",
       "      <td>...</td>\n",
       "      <td>...</td>\n",
       "      <td>...</td>\n",
       "      <td>...</td>\n",
       "      <td>...</td>\n",
       "      <td>...</td>\n",
       "      <td>...</td>\n",
       "    </tr>\n",
       "    <tr>\n",
       "      <th>262997</th>\n",
       "      <td>1004472</td>\n",
       "      <td>2433</td>\n",
       "      <td>0</td>\n",
       "      <td>4</td>\n",
       "      <td>16.0</td>\n",
       "      <td>1</td>\n",
       "      <td>0</td>\n",
       "      <td>1.0</td>\n",
       "      <td>1.0</td>\n",
       "      <td>11.0</td>\n",
       "      <td>16.0</td>\n",
       "      <td>15175.0</td>\n",
       "    </tr>\n",
       "    <tr>\n",
       "      <th>263001</th>\n",
       "      <td>1004472</td>\n",
       "      <td>1921</td>\n",
       "      <td>0</td>\n",
       "      <td>4</td>\n",
       "      <td>16.0</td>\n",
       "      <td>1</td>\n",
       "      <td>0</td>\n",
       "      <td>1.0</td>\n",
       "      <td>1.0</td>\n",
       "      <td>11.0</td>\n",
       "      <td>15.0</td>\n",
       "      <td>15430.0</td>\n",
       "    </tr>\n",
       "    <tr>\n",
       "      <th>263002</th>\n",
       "      <td>1004472</td>\n",
       "      <td>1665</td>\n",
       "      <td>0</td>\n",
       "      <td>4</td>\n",
       "      <td>16.0</td>\n",
       "      <td>1</td>\n",
       "      <td>0</td>\n",
       "      <td>1.0</td>\n",
       "      <td>15.0</td>\n",
       "      <td>16.0</td>\n",
       "      <td>0.0</td>\n",
       "      <td>12567.0</td>\n",
       "    </tr>\n",
       "    <tr>\n",
       "      <th>263003</th>\n",
       "      <td>1004472</td>\n",
       "      <td>3209</td>\n",
       "      <td>0</td>\n",
       "      <td>4</td>\n",
       "      <td>16.0</td>\n",
       "      <td>1</td>\n",
       "      <td>0</td>\n",
       "      <td>1.0</td>\n",
       "      <td>1.0</td>\n",
       "      <td>2.0</td>\n",
       "      <td>15.0</td>\n",
       "      <td>15387.0</td>\n",
       "    </tr>\n",
       "    <tr>\n",
       "      <th>263011</th>\n",
       "      <td>1004473</td>\n",
       "      <td>1015</td>\n",
       "      <td>1</td>\n",
       "      <td>3</td>\n",
       "      <td>1.0</td>\n",
       "      <td>1</td>\n",
       "      <td>3</td>\n",
       "      <td>0.0</td>\n",
       "      <td>1.0</td>\n",
       "      <td>8.0</td>\n",
       "      <td>17.0</td>\n",
       "      <td>19253.0</td>\n",
       "    </tr>\n",
       "  </tbody>\n",
       "</table>\n",
       "<p>91057 rows × 12 columns</p>\n",
       "</div>"
      ],
      "text/plain": [
       "        User_ID  Product_ID  Gender  Age  Occupation  City_Category  \\\n",
       "1       1000001        2304       0    0        10.0              0   \n",
       "5       1000003        1768       1    2        15.0              0   \n",
       "6       1000004        1684       1    4         7.0              1   \n",
       "7       1000004        3213       1    4         7.0              1   \n",
       "8       1000004        3481       1    4         7.0              1   \n",
       "...         ...         ...     ...  ...         ...            ...   \n",
       "262997  1004472        2433       0    4        16.0              1   \n",
       "263001  1004472        1921       0    4        16.0              1   \n",
       "263002  1004472        1665       0    4        16.0              1   \n",
       "263003  1004472        3209       0    4        16.0              1   \n",
       "263011  1004473        1015       1    3         1.0              1   \n",
       "\n",
       "        Stay_In_Current_City_Years  Marital_Status  Product_Category_1  \\\n",
       "1                                2             0.0                 1.0   \n",
       "5                                3             0.0                 1.0   \n",
       "6                                2             1.0                 1.0   \n",
       "7                                2             1.0                 1.0   \n",
       "8                                2             1.0                 1.0   \n",
       "...                            ...             ...                 ...   \n",
       "262997                           0             1.0                 1.0   \n",
       "263001                           0             1.0                 1.0   \n",
       "263002                           0             1.0                15.0   \n",
       "263003                           0             1.0                 1.0   \n",
       "263011                           3             0.0                 1.0   \n",
       "\n",
       "        Product_Category_2  Product_Category_3  Purchase  \n",
       "1                      6.0                14.0   15200.0  \n",
       "5                      2.0                 0.0   15227.0  \n",
       "6                      8.0                17.0   19215.0  \n",
       "7                     15.0                 0.0   15854.0  \n",
       "8                     16.0                 0.0   15686.0  \n",
       "...                    ...                 ...       ...  \n",
       "262997                11.0                16.0   15175.0  \n",
       "263001                11.0                15.0   15430.0  \n",
       "263002                16.0                 0.0   12567.0  \n",
       "263003                 2.0                15.0   15387.0  \n",
       "263011                 8.0                17.0   19253.0  \n",
       "\n",
       "[91057 rows x 12 columns]"
      ]
     },
     "execution_count": 44,
     "metadata": {},
     "output_type": "execute_result"
    }
   ],
   "source": [
    "data_new"
   ]
  },
  {
   "cell_type": "code",
   "execution_count": 49,
   "id": "f36ce6b8",
   "metadata": {},
   "outputs": [],
   "source": [
    "#No of women in the sample - count parameter \n",
    "\n",
    "count = data_new['Gender'].value_counts()[0]\n",
    "\n",
    "\n",
    "#number of observations\n",
    "nobs = data_new['Gender'].value_counts().sum()\n",
    "# nobs = data_new['Gender'].shape[0]\n",
    "\n",
    "\n",
    "\n",
    "#hypothesised value\n",
    "percent = 0.35"
   ]
  },
  {
   "cell_type": "code",
   "execution_count": null,
   "id": "dba1a781",
   "metadata": {},
   "outputs": [],
   "source": []
  },
  {
   "cell_type": "code",
   "execution_count": 50,
   "id": "bb9c7fe8",
   "metadata": {},
   "outputs": [],
   "source": [
    "#one sample z test\n",
    "\n",
    "from statsmodels.stats.proportion import proportions_ztest"
   ]
  },
  {
   "cell_type": "code",
   "execution_count": 51,
   "id": "a77a62ec",
   "metadata": {},
   "outputs": [
    {
     "name": "stdout",
     "output_type": "stream",
     "text": [
      "-108.19403500300525 0.0\n"
     ]
    }
   ],
   "source": [
    "z_stat, p_val = proportions_ztest(count=count, \n",
    "                                  nobs=nobs, \n",
    "                                  value=percent)\n",
    "print(z_stat, p_val)"
   ]
  },
  {
   "cell_type": "code",
   "execution_count": 67,
   "id": "62bf395f",
   "metadata": {},
   "outputs": [],
   "source": [
    "#p-value is less than 0.05, reject the null hypothesis. \n",
    "#the proportion of women spending more than 10000, is not 35%. "
   ]
  },
  {
   "cell_type": "markdown",
   "id": "f5863de1",
   "metadata": {},
   "source": [
    "### Answer : the proportion of women spending more than 10000, is not 35%. "
   ]
  },
  {
   "cell_type": "markdown",
   "id": "ec8e5cab",
   "metadata": {},
   "source": [
    "### Q3) It was observed that the average purchase made by men and women of the age 18-25 same?"
   ]
  },
  {
   "cell_type": "code",
   "execution_count": 54,
   "id": "1959a859",
   "metadata": {},
   "outputs": [],
   "source": [
    "# t test assumes the two samples have equal variance by default\n",
    "\n",
    "# t test for 2 sample"
   ]
  },
  {
   "cell_type": "code",
   "execution_count": 57,
   "id": "dfb9d3d6",
   "metadata": {},
   "outputs": [],
   "source": [
    "#null hypothesis - average spends are equal \n",
    "#alternate hypothesis - average spends are not equal\n",
    "\n",
    "data_men = Purchase[(Purchase['Gender'] == 1)& (Purchase['Age'] == 1)]\n",
    "data_women = Purchase[(Purchase['Gender'] == 0) & (Purchase['Age'] == 1)]"
   ]
  },
  {
   "cell_type": "code",
   "execution_count": 58,
   "id": "002ba742",
   "metadata": {},
   "outputs": [
    {
     "data": {
      "text/html": [
       "<div>\n",
       "<style scoped>\n",
       "    .dataframe tbody tr th:only-of-type {\n",
       "        vertical-align: middle;\n",
       "    }\n",
       "\n",
       "    .dataframe tbody tr th {\n",
       "        vertical-align: top;\n",
       "    }\n",
       "\n",
       "    .dataframe thead th {\n",
       "        text-align: right;\n",
       "    }\n",
       "</style>\n",
       "<table border=\"1\" class=\"dataframe\">\n",
       "  <thead>\n",
       "    <tr style=\"text-align: right;\">\n",
       "      <th></th>\n",
       "      <th>User_ID</th>\n",
       "      <th>Product_ID</th>\n",
       "      <th>Gender</th>\n",
       "      <th>Age</th>\n",
       "      <th>Occupation</th>\n",
       "      <th>City_Category</th>\n",
       "      <th>Stay_In_Current_City_Years</th>\n",
       "      <th>Marital_Status</th>\n",
       "      <th>Product_Category_1</th>\n",
       "      <th>Product_Category_2</th>\n",
       "      <th>Product_Category_3</th>\n",
       "      <th>Purchase</th>\n",
       "    </tr>\n",
       "  </thead>\n",
       "  <tbody>\n",
       "    <tr>\n",
       "      <th>97</th>\n",
       "      <td>1000021</td>\n",
       "      <td>2024</td>\n",
       "      <td>1</td>\n",
       "      <td>1</td>\n",
       "      <td>16.0</td>\n",
       "      <td>1</td>\n",
       "      <td>0</td>\n",
       "      <td>0.0</td>\n",
       "      <td>3.0</td>\n",
       "      <td>12.0</td>\n",
       "      <td>0.0</td>\n",
       "      <td>3055.0</td>\n",
       "    </tr>\n",
       "    <tr>\n",
       "      <th>98</th>\n",
       "      <td>1000022</td>\n",
       "      <td>3261</td>\n",
       "      <td>1</td>\n",
       "      <td>1</td>\n",
       "      <td>15.0</td>\n",
       "      <td>0</td>\n",
       "      <td>4</td>\n",
       "      <td>0.0</td>\n",
       "      <td>1.0</td>\n",
       "      <td>8.0</td>\n",
       "      <td>17.0</td>\n",
       "      <td>12099.0</td>\n",
       "    </tr>\n",
       "    <tr>\n",
       "      <th>99</th>\n",
       "      <td>1000022</td>\n",
       "      <td>1954</td>\n",
       "      <td>1</td>\n",
       "      <td>1</td>\n",
       "      <td>15.0</td>\n",
       "      <td>0</td>\n",
       "      <td>4</td>\n",
       "      <td>0.0</td>\n",
       "      <td>5.0</td>\n",
       "      <td>8.0</td>\n",
       "      <td>0.0</td>\n",
       "      <td>8797.0</td>\n",
       "    </tr>\n",
       "    <tr>\n",
       "      <th>100</th>\n",
       "      <td>1000022</td>\n",
       "      <td>1792</td>\n",
       "      <td>1</td>\n",
       "      <td>1</td>\n",
       "      <td>15.0</td>\n",
       "      <td>0</td>\n",
       "      <td>4</td>\n",
       "      <td>0.0</td>\n",
       "      <td>3.0</td>\n",
       "      <td>4.0</td>\n",
       "      <td>0.0</td>\n",
       "      <td>10681.0</td>\n",
       "    </tr>\n",
       "    <tr>\n",
       "      <th>101</th>\n",
       "      <td>1000022</td>\n",
       "      <td>1020</td>\n",
       "      <td>1</td>\n",
       "      <td>1</td>\n",
       "      <td>15.0</td>\n",
       "      <td>0</td>\n",
       "      <td>4</td>\n",
       "      <td>0.0</td>\n",
       "      <td>8.0</td>\n",
       "      <td>14.0</td>\n",
       "      <td>0.0</td>\n",
       "      <td>7801.0</td>\n",
       "    </tr>\n",
       "    <tr>\n",
       "      <th>...</th>\n",
       "      <td>...</td>\n",
       "      <td>...</td>\n",
       "      <td>...</td>\n",
       "      <td>...</td>\n",
       "      <td>...</td>\n",
       "      <td>...</td>\n",
       "      <td>...</td>\n",
       "      <td>...</td>\n",
       "      <td>...</td>\n",
       "      <td>...</td>\n",
       "      <td>...</td>\n",
       "      <td>...</td>\n",
       "    </tr>\n",
       "    <tr>\n",
       "      <th>262767</th>\n",
       "      <td>1004446</td>\n",
       "      <td>1311</td>\n",
       "      <td>1</td>\n",
       "      <td>1</td>\n",
       "      <td>18.0</td>\n",
       "      <td>1</td>\n",
       "      <td>1</td>\n",
       "      <td>1.0</td>\n",
       "      <td>1.0</td>\n",
       "      <td>2.0</td>\n",
       "      <td>0.0</td>\n",
       "      <td>15431.0</td>\n",
       "    </tr>\n",
       "    <tr>\n",
       "      <th>262951</th>\n",
       "      <td>1004465</td>\n",
       "      <td>2880</td>\n",
       "      <td>1</td>\n",
       "      <td>1</td>\n",
       "      <td>4.0</td>\n",
       "      <td>0</td>\n",
       "      <td>1</td>\n",
       "      <td>1.0</td>\n",
       "      <td>5.0</td>\n",
       "      <td>0.0</td>\n",
       "      <td>0.0</td>\n",
       "      <td>1763.0</td>\n",
       "    </tr>\n",
       "    <tr>\n",
       "      <th>262952</th>\n",
       "      <td>1004465</td>\n",
       "      <td>1296</td>\n",
       "      <td>1</td>\n",
       "      <td>1</td>\n",
       "      <td>4.0</td>\n",
       "      <td>0</td>\n",
       "      <td>1</td>\n",
       "      <td>1.0</td>\n",
       "      <td>2.0</td>\n",
       "      <td>3.0</td>\n",
       "      <td>4.0</td>\n",
       "      <td>3240.0</td>\n",
       "    </tr>\n",
       "    <tr>\n",
       "      <th>262953</th>\n",
       "      <td>1004465</td>\n",
       "      <td>2733</td>\n",
       "      <td>1</td>\n",
       "      <td>1</td>\n",
       "      <td>4.0</td>\n",
       "      <td>0</td>\n",
       "      <td>1</td>\n",
       "      <td>1.0</td>\n",
       "      <td>8.0</td>\n",
       "      <td>0.0</td>\n",
       "      <td>0.0</td>\n",
       "      <td>5832.0</td>\n",
       "    </tr>\n",
       "    <tr>\n",
       "      <th>262954</th>\n",
       "      <td>1004465</td>\n",
       "      <td>1424</td>\n",
       "      <td>1</td>\n",
       "      <td>1</td>\n",
       "      <td>4.0</td>\n",
       "      <td>0</td>\n",
       "      <td>1</td>\n",
       "      <td>1.0</td>\n",
       "      <td>8.0</td>\n",
       "      <td>0.0</td>\n",
       "      <td>0.0</td>\n",
       "      <td>7788.0</td>\n",
       "    </tr>\n",
       "  </tbody>\n",
       "</table>\n",
       "<p>36332 rows × 12 columns</p>\n",
       "</div>"
      ],
      "text/plain": [
       "        User_ID  Product_ID  Gender  Age  Occupation  City_Category  \\\n",
       "97      1000021        2024       1    1        16.0              1   \n",
       "98      1000022        3261       1    1        15.0              0   \n",
       "99      1000022        1954       1    1        15.0              0   \n",
       "100     1000022        1792       1    1        15.0              0   \n",
       "101     1000022        1020       1    1        15.0              0   \n",
       "...         ...         ...     ...  ...         ...            ...   \n",
       "262767  1004446        1311       1    1        18.0              1   \n",
       "262951  1004465        2880       1    1         4.0              0   \n",
       "262952  1004465        1296       1    1         4.0              0   \n",
       "262953  1004465        2733       1    1         4.0              0   \n",
       "262954  1004465        1424       1    1         4.0              0   \n",
       "\n",
       "        Stay_In_Current_City_Years  Marital_Status  Product_Category_1  \\\n",
       "97                               0             0.0                 3.0   \n",
       "98                               4             0.0                 1.0   \n",
       "99                               4             0.0                 5.0   \n",
       "100                              4             0.0                 3.0   \n",
       "101                              4             0.0                 8.0   \n",
       "...                            ...             ...                 ...   \n",
       "262767                           1             1.0                 1.0   \n",
       "262951                           1             1.0                 5.0   \n",
       "262952                           1             1.0                 2.0   \n",
       "262953                           1             1.0                 8.0   \n",
       "262954                           1             1.0                 8.0   \n",
       "\n",
       "        Product_Category_2  Product_Category_3  Purchase  \n",
       "97                    12.0                 0.0    3055.0  \n",
       "98                     8.0                17.0   12099.0  \n",
       "99                     8.0                 0.0    8797.0  \n",
       "100                    4.0                 0.0   10681.0  \n",
       "101                   14.0                 0.0    7801.0  \n",
       "...                    ...                 ...       ...  \n",
       "262767                 2.0                 0.0   15431.0  \n",
       "262951                 0.0                 0.0    1763.0  \n",
       "262952                 3.0                 4.0    3240.0  \n",
       "262953                 0.0                 0.0    5832.0  \n",
       "262954                 0.0                 0.0    7788.0  \n",
       "\n",
       "[36332 rows x 12 columns]"
      ]
     },
     "execution_count": 58,
     "metadata": {},
     "output_type": "execute_result"
    }
   ],
   "source": [
    "data_men"
   ]
  },
  {
   "cell_type": "code",
   "execution_count": 59,
   "id": "925d2dc0",
   "metadata": {},
   "outputs": [
    {
     "data": {
      "text/html": [
       "<div>\n",
       "<style scoped>\n",
       "    .dataframe tbody tr th:only-of-type {\n",
       "        vertical-align: middle;\n",
       "    }\n",
       "\n",
       "    .dataframe tbody tr th {\n",
       "        vertical-align: top;\n",
       "    }\n",
       "\n",
       "    .dataframe thead th {\n",
       "        text-align: right;\n",
       "    }\n",
       "</style>\n",
       "<table border=\"1\" class=\"dataframe\">\n",
       "  <thead>\n",
       "    <tr style=\"text-align: right;\">\n",
       "      <th></th>\n",
       "      <th>User_ID</th>\n",
       "      <th>Product_ID</th>\n",
       "      <th>Gender</th>\n",
       "      <th>Age</th>\n",
       "      <th>Occupation</th>\n",
       "      <th>City_Category</th>\n",
       "      <th>Stay_In_Current_City_Years</th>\n",
       "      <th>Marital_Status</th>\n",
       "      <th>Product_Category_1</th>\n",
       "      <th>Product_Category_2</th>\n",
       "      <th>Product_Category_3</th>\n",
       "      <th>Purchase</th>\n",
       "    </tr>\n",
       "  </thead>\n",
       "  <tbody>\n",
       "    <tr>\n",
       "      <th>70</th>\n",
       "      <td>1000018</td>\n",
       "      <td>3406</td>\n",
       "      <td>0</td>\n",
       "      <td>1</td>\n",
       "      <td>3.0</td>\n",
       "      <td>1</td>\n",
       "      <td>3</td>\n",
       "      <td>0.0</td>\n",
       "      <td>5.0</td>\n",
       "      <td>0.0</td>\n",
       "      <td>0.0</td>\n",
       "      <td>1780.0</td>\n",
       "    </tr>\n",
       "    <tr>\n",
       "      <th>71</th>\n",
       "      <td>1000018</td>\n",
       "      <td>1740</td>\n",
       "      <td>0</td>\n",
       "      <td>1</td>\n",
       "      <td>3.0</td>\n",
       "      <td>1</td>\n",
       "      <td>3</td>\n",
       "      <td>0.0</td>\n",
       "      <td>3.0</td>\n",
       "      <td>4.0</td>\n",
       "      <td>9.0</td>\n",
       "      <td>10754.0</td>\n",
       "    </tr>\n",
       "    <tr>\n",
       "      <th>72</th>\n",
       "      <td>1000018</td>\n",
       "      <td>1371</td>\n",
       "      <td>0</td>\n",
       "      <td>1</td>\n",
       "      <td>3.0</td>\n",
       "      <td>1</td>\n",
       "      <td>3</td>\n",
       "      <td>0.0</td>\n",
       "      <td>4.0</td>\n",
       "      <td>8.0</td>\n",
       "      <td>9.0</td>\n",
       "      <td>2802.0</td>\n",
       "    </tr>\n",
       "    <tr>\n",
       "      <th>73</th>\n",
       "      <td>1000018</td>\n",
       "      <td>990</td>\n",
       "      <td>0</td>\n",
       "      <td>1</td>\n",
       "      <td>3.0</td>\n",
       "      <td>1</td>\n",
       "      <td>3</td>\n",
       "      <td>0.0</td>\n",
       "      <td>1.0</td>\n",
       "      <td>2.0</td>\n",
       "      <td>5.0</td>\n",
       "      <td>19473.0</td>\n",
       "    </tr>\n",
       "    <tr>\n",
       "      <th>74</th>\n",
       "      <td>1000018</td>\n",
       "      <td>1048</td>\n",
       "      <td>0</td>\n",
       "      <td>1</td>\n",
       "      <td>3.0</td>\n",
       "      <td>1</td>\n",
       "      <td>3</td>\n",
       "      <td>0.0</td>\n",
       "      <td>1.0</td>\n",
       "      <td>2.0</td>\n",
       "      <td>0.0</td>\n",
       "      <td>19672.0</td>\n",
       "    </tr>\n",
       "    <tr>\n",
       "      <th>...</th>\n",
       "      <td>...</td>\n",
       "      <td>...</td>\n",
       "      <td>...</td>\n",
       "      <td>...</td>\n",
       "      <td>...</td>\n",
       "      <td>...</td>\n",
       "      <td>...</td>\n",
       "      <td>...</td>\n",
       "      <td>...</td>\n",
       "      <td>...</td>\n",
       "      <td>...</td>\n",
       "      <td>...</td>\n",
       "    </tr>\n",
       "    <tr>\n",
       "      <th>262414</th>\n",
       "      <td>1004387</td>\n",
       "      <td>264</td>\n",
       "      <td>0</td>\n",
       "      <td>1</td>\n",
       "      <td>4.0</td>\n",
       "      <td>1</td>\n",
       "      <td>0</td>\n",
       "      <td>0.0</td>\n",
       "      <td>8.0</td>\n",
       "      <td>0.0</td>\n",
       "      <td>0.0</td>\n",
       "      <td>7798.0</td>\n",
       "    </tr>\n",
       "    <tr>\n",
       "      <th>262415</th>\n",
       "      <td>1004387</td>\n",
       "      <td>1212</td>\n",
       "      <td>0</td>\n",
       "      <td>1</td>\n",
       "      <td>4.0</td>\n",
       "      <td>1</td>\n",
       "      <td>0</td>\n",
       "      <td>0.0</td>\n",
       "      <td>4.0</td>\n",
       "      <td>5.0</td>\n",
       "      <td>13.0</td>\n",
       "      <td>684.0</td>\n",
       "    </tr>\n",
       "    <tr>\n",
       "      <th>262450</th>\n",
       "      <td>1004398</td>\n",
       "      <td>978</td>\n",
       "      <td>0</td>\n",
       "      <td>1</td>\n",
       "      <td>4.0</td>\n",
       "      <td>2</td>\n",
       "      <td>2</td>\n",
       "      <td>0.0</td>\n",
       "      <td>8.0</td>\n",
       "      <td>0.0</td>\n",
       "      <td>0.0</td>\n",
       "      <td>7926.0</td>\n",
       "    </tr>\n",
       "    <tr>\n",
       "      <th>262451</th>\n",
       "      <td>1004398</td>\n",
       "      <td>3127</td>\n",
       "      <td>0</td>\n",
       "      <td>1</td>\n",
       "      <td>4.0</td>\n",
       "      <td>2</td>\n",
       "      <td>2</td>\n",
       "      <td>0.0</td>\n",
       "      <td>5.0</td>\n",
       "      <td>0.0</td>\n",
       "      <td>0.0</td>\n",
       "      <td>5183.0</td>\n",
       "    </tr>\n",
       "    <tr>\n",
       "      <th>262452</th>\n",
       "      <td>1004399</td>\n",
       "      <td>1736</td>\n",
       "      <td>0</td>\n",
       "      <td>1</td>\n",
       "      <td>4.0</td>\n",
       "      <td>2</td>\n",
       "      <td>1</td>\n",
       "      <td>1.0</td>\n",
       "      <td>4.0</td>\n",
       "      <td>12.0</td>\n",
       "      <td>0.0</td>\n",
       "      <td>3457.0</td>\n",
       "    </tr>\n",
       "  </tbody>\n",
       "</table>\n",
       "<p>11861 rows × 12 columns</p>\n",
       "</div>"
      ],
      "text/plain": [
       "        User_ID  Product_ID  Gender  Age  Occupation  City_Category  \\\n",
       "70      1000018        3406       0    1         3.0              1   \n",
       "71      1000018        1740       0    1         3.0              1   \n",
       "72      1000018        1371       0    1         3.0              1   \n",
       "73      1000018         990       0    1         3.0              1   \n",
       "74      1000018        1048       0    1         3.0              1   \n",
       "...         ...         ...     ...  ...         ...            ...   \n",
       "262414  1004387         264       0    1         4.0              1   \n",
       "262415  1004387        1212       0    1         4.0              1   \n",
       "262450  1004398         978       0    1         4.0              2   \n",
       "262451  1004398        3127       0    1         4.0              2   \n",
       "262452  1004399        1736       0    1         4.0              2   \n",
       "\n",
       "        Stay_In_Current_City_Years  Marital_Status  Product_Category_1  \\\n",
       "70                               3             0.0                 5.0   \n",
       "71                               3             0.0                 3.0   \n",
       "72                               3             0.0                 4.0   \n",
       "73                               3             0.0                 1.0   \n",
       "74                               3             0.0                 1.0   \n",
       "...                            ...             ...                 ...   \n",
       "262414                           0             0.0                 8.0   \n",
       "262415                           0             0.0                 4.0   \n",
       "262450                           2             0.0                 8.0   \n",
       "262451                           2             0.0                 5.0   \n",
       "262452                           1             1.0                 4.0   \n",
       "\n",
       "        Product_Category_2  Product_Category_3  Purchase  \n",
       "70                     0.0                 0.0    1780.0  \n",
       "71                     4.0                 9.0   10754.0  \n",
       "72                     8.0                 9.0    2802.0  \n",
       "73                     2.0                 5.0   19473.0  \n",
       "74                     2.0                 0.0   19672.0  \n",
       "...                    ...                 ...       ...  \n",
       "262414                 0.0                 0.0    7798.0  \n",
       "262415                 5.0                13.0     684.0  \n",
       "262450                 0.0                 0.0    7926.0  \n",
       "262451                 0.0                 0.0    5183.0  \n",
       "262452                12.0                 0.0    3457.0  \n",
       "\n",
       "[11861 rows x 12 columns]"
      ]
     },
     "execution_count": 59,
     "metadata": {},
     "output_type": "execute_result"
    }
   ],
   "source": [
    "data_women"
   ]
  },
  {
   "cell_type": "code",
   "execution_count": 60,
   "id": "406fb415",
   "metadata": {},
   "outputs": [],
   "source": [
    "#creating samples\n",
    "data_men_sample = data_men.sample(3000, random_state=0)\n",
    "data_women_sample = data_women.sample(800, random_state=0) \n",
    "\n",
    "# we can change the 3000 or 800 values ( we are taking 5% - 10% from the population)"
   ]
  },
  {
   "cell_type": "code",
   "execution_count": 61,
   "id": "ec213b46",
   "metadata": {},
   "outputs": [
    {
     "name": "stdout",
     "output_type": "stream",
     "text": [
      "26166522.560640134\n",
      "23016563.17006257\n"
     ]
    }
   ],
   "source": [
    "# to test the theory \n",
    "print(data_men_sample[\"Purchase\"].var())\n",
    "print(data_women_sample[\"Purchase\"].var())"
   ]
  },
  {
   "cell_type": "code",
   "execution_count": 62,
   "id": "5a4b111e",
   "metadata": {},
   "outputs": [
    {
     "name": "stdout",
     "output_type": "stream",
     "text": [
      "3.924430919420997 8.84743347058331e-05\n"
     ]
    }
   ],
   "source": [
    "# if the variance has a huge difference then we add the parameter equal_var=False by default its true \n",
    "# (it will work the same if we donot mention it here)\n",
    "\n",
    "from scipy.stats import ttest_ind\n",
    "\n",
    "t_stat_2, p_val_2 = ttest_ind(data_men_sample[\"Purchase\"], data_women_sample[\"Purchase\"],equal_var=True)\n",
    "print(t_stat_2, p_val_2)"
   ]
  },
  {
   "cell_type": "code",
   "execution_count": 63,
   "id": "1c482893",
   "metadata": {},
   "outputs": [],
   "source": [
    "#we can reject the null hypothesis using the test statistic and since p-value is less than 0.05.\n",
    "#the average purchases are not the same."
   ]
  },
  {
   "cell_type": "markdown",
   "id": "51ff1fed",
   "metadata": {},
   "source": [
    "### Answer : the average purchases are not the same."
   ]
  },
  {
   "cell_type": "markdown",
   "id": "5ad696e1",
   "metadata": {},
   "source": [
    "### Q4) Is the percentage of men who have spent more than 10000 the same for the ages 18-25 and 26-35? "
   ]
  },
  {
   "cell_type": "code",
   "execution_count": 64,
   "id": "d2d82c16",
   "metadata": {},
   "outputs": [],
   "source": [
    "\n",
    "#null hypothesis - Percentage of the men in the age groups is same\n",
    "#alternate hypothesis - Percentage of the men in the age groups is not same\n",
    "\n",
    "data_group_1 = Purchase[(Purchase['Purchase'] > 10000) & (Purchase['Age']==1)]\n",
    "data_group_2 = Purchase[(Purchase['Purchase'] > 10000) & (Purchase['Age']==2)]"
   ]
  },
  {
   "cell_type": "code",
   "execution_count": 66,
   "id": "817fad55",
   "metadata": {},
   "outputs": [],
   "source": [
    "data_age1_sample = data_group_1.sample(2000, random_state=0)\n",
    "data_age2_sample = data_group_2.sample(2000, random_state=0)"
   ]
  },
  {
   "cell_type": "code",
   "execution_count": 73,
   "id": "ab980e2c",
   "metadata": {},
   "outputs": [
    {
     "name": "stdout",
     "output_type": "stream",
     "text": [
      "[1602, 1604] [2000, 2000]\n"
     ]
    }
   ],
   "source": [
    "count = [(data_age1_sample['Gender'] == 1).sum(), (data_age2_sample['Gender'] == 1).sum()]\n",
    "\n",
    "nobs = [(data_age1_sample.value_counts().sum()), (data_age2_sample.value_counts().sum())]\n",
    "\n",
    "# or [(len(data_age1_sample)), len(data_age2_sample)]\n",
    "\n",
    "\n",
    "print(count, nobs)"
   ]
  },
  {
   "cell_type": "code",
   "execution_count": 74,
   "id": "b06391d8",
   "metadata": {},
   "outputs": [],
   "source": [
    "from statsmodels.stats.proportion import proportions_ztest\n",
    "\n",
    "stat_2sample, p_value_2sample = proportions_ztest(count=count, \n",
    "                                                  nobs=nobs, \n",
    "                                                  value=0)\n",
    "\n",
    "# here value is zero as we are comparing the mens percentage versus each. Read the document about the value parameter.\n"
   ]
  },
  {
   "cell_type": "code",
   "execution_count": 75,
   "id": "8ea67685",
   "metadata": {},
   "outputs": [
    {
     "name": "stdout",
     "output_type": "stream",
     "text": [
      "-0.07928079219850037 0.9368092838112458\n"
     ]
    }
   ],
   "source": [
    "print(stat_2sample, p_value_2sample)"
   ]
  },
  {
   "cell_type": "code",
   "execution_count": 77,
   "id": "d15a92d3",
   "metadata": {},
   "outputs": [],
   "source": [
    "#p value is more than 0.05, cannot reject the null hypthesis. \n",
    "#therefore, Percentage of the men in both the age groups is same"
   ]
  },
  {
   "cell_type": "markdown",
   "id": "44ad55d0",
   "metadata": {},
   "source": [
    "### Answer : Percentage of the men in both the age groups is same"
   ]
  },
  {
   "cell_type": "code",
   "execution_count": null,
   "id": "29f0a2af",
   "metadata": {},
   "outputs": [],
   "source": []
  }
 ],
 "metadata": {
  "kernelspec": {
   "display_name": "Python 3 (ipykernel)",
   "language": "python",
   "name": "python3"
  },
  "language_info": {
   "codemirror_mode": {
    "name": "ipython",
    "version": 3
   },
   "file_extension": ".py",
   "mimetype": "text/x-python",
   "name": "python",
   "nbconvert_exporter": "python",
   "pygments_lexer": "ipython3",
   "version": "3.9.13"
  }
 },
 "nbformat": 4,
 "nbformat_minor": 5
}
